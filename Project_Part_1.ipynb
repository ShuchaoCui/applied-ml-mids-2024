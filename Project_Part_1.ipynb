{
 "nbformat": 4,
 "nbformat_minor": 0,
 "metadata": {
  "colab": {
   "provenance": []
  },
  "kernelspec": {
   "name": "python3",
   "language": "python",
   "display_name": "Python 3 (ipykernel)"
  }
 },
 "cells": [
  {
   "cell_type": "markdown",
   "metadata": {
    "id": "y6XZ55wHbdm5"
   },
   "source": [
    "# Part 1 of the Machine Learning Project\n",
    "\n",
    "## Preliminaries\n",
    "\n",
    "\n",
    "Before satring familiarize yourself with pandas reading the “10 minutes to pandas” tutorial: https://pandas.pydata.org/pandas-docs/stable/user_guide/10min.html\n",
    "\n",
    "Browse through the full pandas user guide when needed: https://pandas.pydata.org/pandas-docs/stable/user_guide/index.html\n",
    "\n",
    "\n",
    "## Load libraries"
   ]
  },
  {
   "cell_type": "code",
   "metadata": {
    "id": "L8jsxX6eaxL_",
    "ExecuteTime": {
     "end_time": "2024-10-14T11:11:22.475373400Z",
     "start_time": "2024-10-14T11:11:22.470551300Z"
    }
   },
   "source": [
    "# numpy and pandas for data manipulation\n",
    "import numpy as np\n",
    "import pandas as pd\n",
    "\n",
    "# File system manangement\n",
    "import os\n",
    "\n",
    "# Suppress warnings\n",
    "#import warnings\n",
    "#warnings.filterwarnings('ignore')\n",
    "\n",
    "# matplotlib and seaborn for plotting\n",
    "import matplotlib.pyplot as plt\n",
    "import seaborn as sns\n"
   ],
   "execution_count": 1,
   "outputs": []
  },
  {
   "cell_type": "markdown",
   "metadata": {
    "id": "ctTp1HonbYpj"
   },
   "source": [
    "<p><img alt=\"Datasets\" src=\"https://storage.googleapis.com/kaggle-media/competitions/home-credit/home_credit.png\" align=\"left\" hspace=\"10px\" vspace=\"0px\"></p>\n",
    "\n",
    "\n",
    "<h1>Datasets</h1>"
   ]
  },
  {
   "cell_type": "code",
   "metadata": {
    "id": "TAo_jy0PhBEY",
    "ExecuteTime": {
     "end_time": "2024-10-14T11:17:35.179993900Z",
     "start_time": "2024-10-14T11:17:33.333581600Z"
    }
   },
   "source": [
    "## Change this part with your own dataset files\n",
    "\n",
    "src_train = 'data/application_train.csv.zip'\n",
    "src_test = 'data/application_test.csv.zip'\n",
    "\n",
    "src_previous ='data/previous_application.csv.zip'\n",
    "src_bureau = 'data/bureau.csv.zip'\n",
    "\n",
    "# If you cannot load the directly the csv from Google drive (Google restrictions), download them manually then change the path to load them locally\n",
    "\n",
    "app_train = pd.read_csv(src_train, compression=\"zip\")\n",
    "app_train\n"
   ],
   "execution_count": 2,
   "outputs": [
    {
     "data": {
      "text/plain": "        SK_ID_CURR  TARGET NAME_CONTRACT_TYPE CODE_GENDER FLAG_OWN_CAR  \\\n0           100002       1         Cash loans           M            N   \n1           100003       0         Cash loans           F            N   \n2           100004       0    Revolving loans           M            Y   \n3           100006       0         Cash loans           F            N   \n4           100007       0         Cash loans           M            N   \n...            ...     ...                ...         ...          ...   \n307506      456251       0         Cash loans           M            N   \n307507      456252       0         Cash loans           F            N   \n307508      456253       0         Cash loans           F            N   \n307509      456254       1         Cash loans           F            N   \n307510      456255       0         Cash loans           F            N   \n\n       FLAG_OWN_REALTY  CNT_CHILDREN  AMT_INCOME_TOTAL  AMT_CREDIT  \\\n0                    Y             0          202500.0    406597.5   \n1                    N             0          270000.0   1293502.5   \n2                    Y             0           67500.0    135000.0   \n3                    Y             0          135000.0    312682.5   \n4                    Y             0          121500.0    513000.0   \n...                ...           ...               ...         ...   \n307506               N             0          157500.0    254700.0   \n307507               Y             0           72000.0    269550.0   \n307508               Y             0          153000.0    677664.0   \n307509               Y             0          171000.0    370107.0   \n307510               N             0          157500.0    675000.0   \n\n        AMT_ANNUITY  ...  FLAG_DOCUMENT_18 FLAG_DOCUMENT_19 FLAG_DOCUMENT_20  \\\n0           24700.5  ...                 0                0                0   \n1           35698.5  ...                 0                0                0   \n2            6750.0  ...                 0                0                0   \n3           29686.5  ...                 0                0                0   \n4           21865.5  ...                 0                0                0   \n...             ...  ...               ...              ...              ...   \n307506      27558.0  ...                 0                0                0   \n307507      12001.5  ...                 0                0                0   \n307508      29979.0  ...                 0                0                0   \n307509      20205.0  ...                 0                0                0   \n307510      49117.5  ...                 0                0                0   \n\n       FLAG_DOCUMENT_21 AMT_REQ_CREDIT_BUREAU_HOUR AMT_REQ_CREDIT_BUREAU_DAY  \\\n0                     0                        0.0                       0.0   \n1                     0                        0.0                       0.0   \n2                     0                        0.0                       0.0   \n3                     0                        NaN                       NaN   \n4                     0                        0.0                       0.0   \n...                 ...                        ...                       ...   \n307506                0                        NaN                       NaN   \n307507                0                        NaN                       NaN   \n307508                0                        1.0                       0.0   \n307509                0                        0.0                       0.0   \n307510                0                        0.0                       0.0   \n\n        AMT_REQ_CREDIT_BUREAU_WEEK  AMT_REQ_CREDIT_BUREAU_MON  \\\n0                              0.0                        0.0   \n1                              0.0                        0.0   \n2                              0.0                        0.0   \n3                              NaN                        NaN   \n4                              0.0                        0.0   \n...                            ...                        ...   \n307506                         NaN                        NaN   \n307507                         NaN                        NaN   \n307508                         0.0                        1.0   \n307509                         0.0                        0.0   \n307510                         0.0                        2.0   \n\n        AMT_REQ_CREDIT_BUREAU_QRT  AMT_REQ_CREDIT_BUREAU_YEAR  \n0                             0.0                         1.0  \n1                             0.0                         0.0  \n2                             0.0                         0.0  \n3                             NaN                         NaN  \n4                             0.0                         0.0  \n...                           ...                         ...  \n307506                        NaN                         NaN  \n307507                        NaN                         NaN  \n307508                        0.0                         1.0  \n307509                        0.0                         0.0  \n307510                        0.0                         1.0  \n\n[307511 rows x 122 columns]",
      "text/html": "<div>\n<style scoped>\n    .dataframe tbody tr th:only-of-type {\n        vertical-align: middle;\n    }\n\n    .dataframe tbody tr th {\n        vertical-align: top;\n    }\n\n    .dataframe thead th {\n        text-align: right;\n    }\n</style>\n<table border=\"1\" class=\"dataframe\">\n  <thead>\n    <tr style=\"text-align: right;\">\n      <th></th>\n      <th>SK_ID_CURR</th>\n      <th>TARGET</th>\n      <th>NAME_CONTRACT_TYPE</th>\n      <th>CODE_GENDER</th>\n      <th>FLAG_OWN_CAR</th>\n      <th>FLAG_OWN_REALTY</th>\n      <th>CNT_CHILDREN</th>\n      <th>AMT_INCOME_TOTAL</th>\n      <th>AMT_CREDIT</th>\n      <th>AMT_ANNUITY</th>\n      <th>...</th>\n      <th>FLAG_DOCUMENT_18</th>\n      <th>FLAG_DOCUMENT_19</th>\n      <th>FLAG_DOCUMENT_20</th>\n      <th>FLAG_DOCUMENT_21</th>\n      <th>AMT_REQ_CREDIT_BUREAU_HOUR</th>\n      <th>AMT_REQ_CREDIT_BUREAU_DAY</th>\n      <th>AMT_REQ_CREDIT_BUREAU_WEEK</th>\n      <th>AMT_REQ_CREDIT_BUREAU_MON</th>\n      <th>AMT_REQ_CREDIT_BUREAU_QRT</th>\n      <th>AMT_REQ_CREDIT_BUREAU_YEAR</th>\n    </tr>\n  </thead>\n  <tbody>\n    <tr>\n      <th>0</th>\n      <td>100002</td>\n      <td>1</td>\n      <td>Cash loans</td>\n      <td>M</td>\n      <td>N</td>\n      <td>Y</td>\n      <td>0</td>\n      <td>202500.0</td>\n      <td>406597.5</td>\n      <td>24700.5</td>\n      <td>...</td>\n      <td>0</td>\n      <td>0</td>\n      <td>0</td>\n      <td>0</td>\n      <td>0.0</td>\n      <td>0.0</td>\n      <td>0.0</td>\n      <td>0.0</td>\n      <td>0.0</td>\n      <td>1.0</td>\n    </tr>\n    <tr>\n      <th>1</th>\n      <td>100003</td>\n      <td>0</td>\n      <td>Cash loans</td>\n      <td>F</td>\n      <td>N</td>\n      <td>N</td>\n      <td>0</td>\n      <td>270000.0</td>\n      <td>1293502.5</td>\n      <td>35698.5</td>\n      <td>...</td>\n      <td>0</td>\n      <td>0</td>\n      <td>0</td>\n      <td>0</td>\n      <td>0.0</td>\n      <td>0.0</td>\n      <td>0.0</td>\n      <td>0.0</td>\n      <td>0.0</td>\n      <td>0.0</td>\n    </tr>\n    <tr>\n      <th>2</th>\n      <td>100004</td>\n      <td>0</td>\n      <td>Revolving loans</td>\n      <td>M</td>\n      <td>Y</td>\n      <td>Y</td>\n      <td>0</td>\n      <td>67500.0</td>\n      <td>135000.0</td>\n      <td>6750.0</td>\n      <td>...</td>\n      <td>0</td>\n      <td>0</td>\n      <td>0</td>\n      <td>0</td>\n      <td>0.0</td>\n      <td>0.0</td>\n      <td>0.0</td>\n      <td>0.0</td>\n      <td>0.0</td>\n      <td>0.0</td>\n    </tr>\n    <tr>\n      <th>3</th>\n      <td>100006</td>\n      <td>0</td>\n      <td>Cash loans</td>\n      <td>F</td>\n      <td>N</td>\n      <td>Y</td>\n      <td>0</td>\n      <td>135000.0</td>\n      <td>312682.5</td>\n      <td>29686.5</td>\n      <td>...</td>\n      <td>0</td>\n      <td>0</td>\n      <td>0</td>\n      <td>0</td>\n      <td>NaN</td>\n      <td>NaN</td>\n      <td>NaN</td>\n      <td>NaN</td>\n      <td>NaN</td>\n      <td>NaN</td>\n    </tr>\n    <tr>\n      <th>4</th>\n      <td>100007</td>\n      <td>0</td>\n      <td>Cash loans</td>\n      <td>M</td>\n      <td>N</td>\n      <td>Y</td>\n      <td>0</td>\n      <td>121500.0</td>\n      <td>513000.0</td>\n      <td>21865.5</td>\n      <td>...</td>\n      <td>0</td>\n      <td>0</td>\n      <td>0</td>\n      <td>0</td>\n      <td>0.0</td>\n      <td>0.0</td>\n      <td>0.0</td>\n      <td>0.0</td>\n      <td>0.0</td>\n      <td>0.0</td>\n    </tr>\n    <tr>\n      <th>...</th>\n      <td>...</td>\n      <td>...</td>\n      <td>...</td>\n      <td>...</td>\n      <td>...</td>\n      <td>...</td>\n      <td>...</td>\n      <td>...</td>\n      <td>...</td>\n      <td>...</td>\n      <td>...</td>\n      <td>...</td>\n      <td>...</td>\n      <td>...</td>\n      <td>...</td>\n      <td>...</td>\n      <td>...</td>\n      <td>...</td>\n      <td>...</td>\n      <td>...</td>\n      <td>...</td>\n    </tr>\n    <tr>\n      <th>307506</th>\n      <td>456251</td>\n      <td>0</td>\n      <td>Cash loans</td>\n      <td>M</td>\n      <td>N</td>\n      <td>N</td>\n      <td>0</td>\n      <td>157500.0</td>\n      <td>254700.0</td>\n      <td>27558.0</td>\n      <td>...</td>\n      <td>0</td>\n      <td>0</td>\n      <td>0</td>\n      <td>0</td>\n      <td>NaN</td>\n      <td>NaN</td>\n      <td>NaN</td>\n      <td>NaN</td>\n      <td>NaN</td>\n      <td>NaN</td>\n    </tr>\n    <tr>\n      <th>307507</th>\n      <td>456252</td>\n      <td>0</td>\n      <td>Cash loans</td>\n      <td>F</td>\n      <td>N</td>\n      <td>Y</td>\n      <td>0</td>\n      <td>72000.0</td>\n      <td>269550.0</td>\n      <td>12001.5</td>\n      <td>...</td>\n      <td>0</td>\n      <td>0</td>\n      <td>0</td>\n      <td>0</td>\n      <td>NaN</td>\n      <td>NaN</td>\n      <td>NaN</td>\n      <td>NaN</td>\n      <td>NaN</td>\n      <td>NaN</td>\n    </tr>\n    <tr>\n      <th>307508</th>\n      <td>456253</td>\n      <td>0</td>\n      <td>Cash loans</td>\n      <td>F</td>\n      <td>N</td>\n      <td>Y</td>\n      <td>0</td>\n      <td>153000.0</td>\n      <td>677664.0</td>\n      <td>29979.0</td>\n      <td>...</td>\n      <td>0</td>\n      <td>0</td>\n      <td>0</td>\n      <td>0</td>\n      <td>1.0</td>\n      <td>0.0</td>\n      <td>0.0</td>\n      <td>1.0</td>\n      <td>0.0</td>\n      <td>1.0</td>\n    </tr>\n    <tr>\n      <th>307509</th>\n      <td>456254</td>\n      <td>1</td>\n      <td>Cash loans</td>\n      <td>F</td>\n      <td>N</td>\n      <td>Y</td>\n      <td>0</td>\n      <td>171000.0</td>\n      <td>370107.0</td>\n      <td>20205.0</td>\n      <td>...</td>\n      <td>0</td>\n      <td>0</td>\n      <td>0</td>\n      <td>0</td>\n      <td>0.0</td>\n      <td>0.0</td>\n      <td>0.0</td>\n      <td>0.0</td>\n      <td>0.0</td>\n      <td>0.0</td>\n    </tr>\n    <tr>\n      <th>307510</th>\n      <td>456255</td>\n      <td>0</td>\n      <td>Cash loans</td>\n      <td>F</td>\n      <td>N</td>\n      <td>N</td>\n      <td>0</td>\n      <td>157500.0</td>\n      <td>675000.0</td>\n      <td>49117.5</td>\n      <td>...</td>\n      <td>0</td>\n      <td>0</td>\n      <td>0</td>\n      <td>0</td>\n      <td>0.0</td>\n      <td>0.0</td>\n      <td>0.0</td>\n      <td>2.0</td>\n      <td>0.0</td>\n      <td>1.0</td>\n    </tr>\n  </tbody>\n</table>\n<p>307511 rows × 122 columns</p>\n</div>"
     },
     "execution_count": 2,
     "metadata": {},
     "output_type": "execute_result"
    }
   ]
  },
  {
   "cell_type": "markdown",
   "metadata": {
    "id": "uPBTWB1ViFHe"
   },
   "source": [
    "<h1>Loading the datasets (2 pts)</h1>\n",
    "\n",
    "1. Similarly to the train set, load the test set, the bureau dataset and the past applications dataset.\n",
    "\n",
    "2. Display for each the number of rows and the number of columns\n",
    "\n",
    "*You will be evaluated as follow*\n",
    "* 1: Correct approach + code: 1pt\n",
    "* 2: Code: 1pts\n"
   ]
  },
  {
   "cell_type": "code",
   "metadata": {
    "id": "GjoGTJvLiBPP",
    "ExecuteTime": {
     "end_time": "2024-10-14T11:20:57.284951200Z",
     "start_time": "2024-10-14T11:20:51.359132500Z"
    }
   },
   "source": [
    "#Your code here\n",
    "#The variables that should be implemented to store the data are: app_train, app_test, bureau, app_past\n",
    "\n",
    "\n",
    "# 1 - Loading the different datasets.\n",
    "app_test = pd.read_csv(src_test, compression=\"zip\")\n",
    "bureau = pd.read_csv(src_bureau, compression=\"zip\")\n",
    "app_past = pd.read_csv(src_previous, compression=\"zip\")\n",
    "\n",
    "# 2 - The number of rows and columns for each\n",
    "print(f\"The shape of app_train:{app_train.shape}\")\n",
    "print(f\"The shape of app_test:{app_test.shape}\")\n",
    "print(f\"The shape of bureau:{bureau.shape}\")\n",
    "print(f\"The shape of app_past:{app_past.shape}\")\n",
    "\n"
   ],
   "execution_count": 7,
   "outputs": [
    {
     "name": "stdout",
     "output_type": "stream",
     "text": [
      "The shape of app_train:(307511, 122)\n",
      "The shape of app_test:(48744, 121)\n",
      "The shape of bureau:(1716428, 17)\n",
      "The shape of app_past:(1670214, 37)\n"
     ]
    }
   ]
  },
  {
   "cell_type": "markdown",
   "metadata": {
    "id": "GnMI0pRmkHzH"
   },
   "source": [
    "<h1> Feature Engineering</h1>"
   ]
  },
  {
   "cell_type": "markdown",
   "metadata": {
    "id": "SuAAPVW1kH82"
   },
   "source": [
    "<h2>Missing values (9pts)</h2>\n",
    "\n",
    "\n",
    "**3.a**: What columns are missing the most values in app_test?\n",
    "\n",
    "**3.b**: What columns are missing the most values in bureau?\n",
    "\n",
    "**3.c**: What columns are missing the most values in app_past?\n",
    "\n",
    "4: Fix missing data in app_test dataset using categorization and/or simple imputation when appropriate. Be careful to the **data leakage** issue!\n",
    "\n",
    "*You will be evaluated as follow*\n",
    "* 3: Correct approach + code 2pts.\n",
    "* 4: Description of the approach 4pts. Code implementation of the approach 3pts."
   ]
  },
  {
   "cell_type": "code",
   "metadata": {
    "id": "GCD-Tet5rKuq",
    "ExecuteTime": {
     "end_time": "2024-10-14T11:42:19.199097100Z",
     "start_time": "2024-10-14T11:42:18.312923400Z"
    }
   },
   "source": [
    "from sklearn.impute import SimpleImputer\n",
    "# 3\n",
    "# 3.a\n",
    "missing_values_app_test = app_test.isnull().sum()\n",
    "missing_values_app_test_sorted = missing_values_app_test.sort_values(ascending=False)\n",
    "print(f\"The most columns with most missing values in app_test:\\n{missing_values_app_test_sorted.head(10)}\\n\")\n",
    "# 3.b\n",
    "missing_values_bureau = bureau.isnull().sum()\n",
    "missing_values_bureau_sorted = missing_values_bureau.sort_values(ascending=False)\n",
    "print(f\"The most columns with most missing values in bureau:\\n{missing_values_bureau_sorted.head(10)}\\n\")\n",
    "# 3.c\n",
    "missing_values_app_past = app_past.isnull().sum()\n",
    "missing_values_app_past_sorted = missing_values_app_past.sort_values(ascending=False)\n",
    "print(f\"The most columns with most missing values in app_past:\\n{missing_values_app_past_sorted.head(10)}\\n\")\n",
    "\n",
    "# 4: Fix missing data in app_test using categorization and/or simple imputation when appropriate. You should use *only* pandas and numpy here. You should *not* use sklearn (scikit-learn).\n",
    "categorical_columns = app_test.select_dtypes(include=['object']).columns.tolist()\n",
    "continuous_columns = app_test.select_dtypes(include=['number']).columns.tolist()\n",
    "\n",
    "app_test[categorical_columns]=SimpleImputer(strategy='constant',fill_value='missing')\n",
    "app_test[continuous_columns]=SimpleImputer(strategy='mean')\n",
    "\n",
    "# check the outcomes\n",
    "missing_values_app_test_2 = app_test.isnull().sum()\n",
    "missing_values_app_test_2_sorted = missing_values_app_test_2.sort_values(ascending=False)\n",
    "print(f\"The most columns with most missing values in app_test afterwards:\\n{missing_values_app_test_2_sorted.head(10)}\\n\")"
   ],
   "execution_count": 21,
   "outputs": [
    {
     "name": "stdout",
     "output_type": "stream",
     "text": [
      "The most columns with most missing values in app_test:\n",
      "SK_ID_CURR                  0\n",
      "COMMONAREA_MODE             0\n",
      "EMERGENCYSTATE_MODE         0\n",
      "WALLSMATERIAL_MODE          0\n",
      "TOTALAREA_MODE              0\n",
      "HOUSETYPE_MODE              0\n",
      "FONDKAPREMONT_MODE          0\n",
      "NONLIVINGAREA_MEDI          0\n",
      "NONLIVINGAPARTMENTS_MEDI    0\n",
      "LIVINGAREA_MEDI             0\n",
      "dtype: int64\n",
      "\n",
      "The most columns with most missing values in bureau:\n",
      "AMT_ANNUITY               1226791\n",
      "AMT_CREDIT_MAX_OVERDUE    1124488\n",
      "DAYS_ENDDATE_FACT          633653\n",
      "AMT_CREDIT_SUM_LIMIT       591780\n",
      "AMT_CREDIT_SUM_DEBT        257669\n",
      "DAYS_CREDIT_ENDDATE        105553\n",
      "AMT_CREDIT_SUM                 13\n",
      "CREDIT_ACTIVE                   0\n",
      "CREDIT_CURRENCY                 0\n",
      "DAYS_CREDIT                     0\n",
      "dtype: int64\n",
      "\n",
      "The most columns with most missing values in app_past:\n",
      "RATE_INTEREST_PRIVILEGED     1664263\n",
      "RATE_INTEREST_PRIMARY        1664263\n",
      "AMT_DOWN_PAYMENT              895844\n",
      "RATE_DOWN_PAYMENT             895844\n",
      "NAME_TYPE_SUITE               820405\n",
      "NFLAG_INSURED_ON_APPROVAL     673065\n",
      "DAYS_TERMINATION              673065\n",
      "DAYS_LAST_DUE                 673065\n",
      "DAYS_LAST_DUE_1ST_VERSION     673065\n",
      "DAYS_FIRST_DUE                673065\n",
      "dtype: int64\n",
      "\n",
      "The most columns with most missing values in app_test afterwards:\n",
      "SK_ID_CURR                  0\n",
      "COMMONAREA_MODE             0\n",
      "EMERGENCYSTATE_MODE         0\n",
      "WALLSMATERIAL_MODE          0\n",
      "TOTALAREA_MODE              0\n",
      "HOUSETYPE_MODE              0\n",
      "FONDKAPREMONT_MODE          0\n",
      "NONLIVINGAREA_MEDI          0\n",
      "NONLIVINGAPARTMENTS_MEDI    0\n",
      "LIVINGAREA_MEDI             0\n",
      "dtype: int64\n",
      "\n"
     ]
    }
   ]
  },
  {
   "cell_type": "markdown",
   "source": [
    "**4**: Describe your approach, including how you choose the technique to apply, and how you apply the technique (double click to edit a text cell)"
   ],
   "metadata": {
    "id": "Sz6iD4S-rVUy"
   }
  },
  {
   "cell_type": "markdown",
   "source": [
    "**Identification:**\n",
    "I first used the isnull() method followed by sum() to calculate the total number of missing values for each column in the three datasets. This helped me to understand the extent of the missing data and identify which columns had the most significant gaps.\n",
    "\n",
    "**Categorical and Continuous Variables:**\n",
    "I categorized the columns of the app_test dataset into two groups: categorical variables (object types) and continuous variables (numerical types). This categorization is crucial as it informs the choice of imputation techniques.\n",
    "\n",
    "**Imputation Strategy:**\n",
    "For categorical variables, I decided to use a constant imputation strategy, filling missing values with the string \"missing.\" This technique is appropriate for categorical data because it helps retain the structure of the dataset without introducing biases.\n",
    "For continuous variables, I opted for mean imputation. The mean is a standard statistical measure that provides a reasonable estimate for filling in missing values, especially when the distribution is not heavily skewed.\n",
    "\n",
    "**Implementation:**\n",
    "For categorical columns, I used the SimpleImputer class from scikit-learn to fill in missing values with \"missing.\"\n",
    "For continuous columns, I applied the mean of the existing values to replace missing data.\n",
    "\n",
    "**Verify the Results：**\n",
    "After applying the imputation techniques, I rechecked the dataset to ensure that all missing values were addressed."
   ],
   "metadata": {
    "collapsed": false
   }
  },
  {
   "cell_type": "markdown",
   "source": [
    "## Class Imbalance (8 pts)\n",
    "\n",
    "5. Evaluate the class imbalance of the training set.\n",
    "\n",
    "6. **a** Fix the class imbalance with over/undersampling\n",
    "\n",
    " **b** Use the SMOTE algorithm to fix class imbalance\n",
    "\n",
    "*You will be evaluated as follow*\n",
    "* 5: Correct approach + code: 2ts\n",
    "* 6.a: code 3pt\n",
    "* 6.b: code 3pts"
   ],
   "metadata": {
    "id": "LRgq0O0R8Dql"
   }
  },
  {
   "cell_type": "code",
   "source": [
    "import matplotlib.pyplot as plt\n",
    "\n",
    "# 5 - value counts\n",
    "class_counts = app_train['TARGET'].value_counts()\n",
    "print(\"Class distribution:\\n\", class_counts)\n",
    "\n",
    "# 5 - histograms\n",
    "plt.figure(figsize=(8, 5))\n",
    "app_train['TARGET'].value_counts().plot(kind='bar', color='skyblue')\n",
    "plt.title('Class Distribution in Training Set')\n",
    "plt.xlabel('Class')\n",
    "plt.ylabel('Number of Instances')\n",
    "plt.xticks(rotation=0)\n",
    "plt.grid(axis='y')\n",
    "plt.show()\n",
    "\n",
    "\n",
    "# train_columns = set(app_train.columns)\n",
    "# test_columns = set(app_test.columns)\n",
    "# missing_in_test = train_columns - test_columns\n",
    "# print(\"在 app_train 中有但在 app_test 中没有的列:\")\n",
    "# print(missing_in_test)"
   ],
   "metadata": {
    "id": "ylyaMfXN8Kbd",
    "ExecuteTime": {
     "end_time": "2024-10-14T11:54:22.506707300Z",
     "start_time": "2024-10-14T11:54:22.416535700Z"
    }
   },
   "execution_count": 24,
   "outputs": [
    {
     "name": "stdout",
     "output_type": "stream",
     "text": [
      "Class distribution:\n",
      " TARGET\n",
      "0    282686\n",
      "1     24825\n",
      "Name: count, dtype: int64\n"
     ]
    },
    {
     "data": {
      "text/plain": "<Figure size 800x500 with 1 Axes>",
      "image/png": "[encoded data removed]"
     },
     "metadata": {},
     "output_type": "display_data"
    }
   ]
  },
  {
   "cell_type": "markdown",
   "source": [
    "**5**: Describe briefly your observation (double click to edit a text cell)"
   ],
   "metadata": {
    "id": "KP0jGTbSfQyb"
   }
  },
  {
   "cell_type": "markdown",
   "source": [
    "Class 0: This class has a significantly larger number of instances.\n",
    "Class 1: In contrast, this class contains fewer than one-tenth of the instances of Class 0.\n",
    "\n",
    "This distribution indicates that Class 0 is the majority class, while Class 1 is the minority class. Such a disparity can lead to potential issues during model training, as algorithms may become biased toward predicting the majority class (Class 0) due to its overwhelming presence in the dataset."
   ],
   "metadata": {
    "collapsed": false
   }
  },
  {
   "cell_type": "code",
   "metadata": {
    "id": "PTyLbFbxgiD1",
    "ExecuteTime": {
     "end_time": "2024-10-14T12:03:25.661328900Z",
     "start_time": "2024-10-14T12:03:25.658817100Z"
    }
   },
   "source": [
    "# copy your current dataframe with its .copy() method. You should always use the copy() method if you want to keep the original dataframe untouched when you modify\n",
    "# this is a very common bug, so please read  https://www.statology.org/pandas-copy-dataframe/\n",
    "\n",
    "## Your code here\n",
    "app_train_original = app_train.copy()\n",
    "\n",
    "\n",
    "# 6.a - fix imbalance with undersampling or oversampling\n",
    "# Implement undersampling or oversampling *without* external libraries, only the library provided to implement yourself the chosen solution.\n",
    "\n",
    "## Your code here\n",
    "\n",
    "\n",
    "# 6.b - fix balance with SMOTE on your previously copied dataframe\n",
    "# You can use any external libraries to use SMOTE. We recommend the imbalanced-learn package https://imbalanced-learn.org/stable/over_sampling.html\n",
    "# Make sure to select the appropriate SMOTE variant.\n",
    "\n",
    "\n",
    "## Your code here\n",
    "app_train_smote = ...\n",
    "\n",
    "\n",
    "# We will use the dataframe app_train from 6.a in the following"
   ],
   "execution_count": 25,
   "outputs": []
  },
  {
   "cell_type": "markdown",
   "metadata": {
    "id": "h27ZdP7aloQb"
   },
   "source": [
    "<h2>Categorical features (9pts)</h2>\n",
    "\n",
    "In `app_test`\n",
    "\n",
    "**7a**: How will you transform the column NAME_HOUSING_TYPE in app_test be correctly handled by the model? How will you transform CODE_GENDER column?\n",
    "\n",
    "**7b**: How would you transform the column NAME_HOUSING_TYPE in app_test if you want only 3 categories? Use LabelEncoder to transform FLAG_OWN_CAR column.\n",
    "\n",
    "**7c**: In ORGANIZATION_TYPE, only keep the categories that appear in more than 10% of the dataset. Group other categories in one. What is the size of the dummy vector for ORGANIZATION_TYPE after this transformation?\n",
    "\n",
    "\n",
    "8: **In app_test, app_past and bureau,** transform all the categorical columns that you have not processed in 7 using One-hot encoding.\n",
    "\n",
    "*You will be evaluated as follow*\n",
    "* 7: Description of the approach 4pts. Code 3pts.\n",
    "* 8: Correct approach + code 2pts."
   ]
  },
  {
   "cell_type": "code",
   "metadata": {
    "id": "shlk_faurPh6"
   },
   "source": [
    "## Your code here"
   ],
   "execution_count": null,
   "outputs": []
  },
  {
   "cell_type": "markdown",
   "metadata": {
    "id": "ufWJR8ScnHb4"
   },
   "source": [
    "<h2>Anomalies (7 pts)</h2>\n",
    "\n",
    "**In app_test**\n",
    "\n",
    "**9a**: Is there an anomaly with the column DEF_30_CNT_SOCIAL_CIRCLE? If so, how would you solve it?\n",
    "\n",
    "**9b**: Is there an anomaly with the column LANDAREA_AVG? If so, how would you solve it?\n",
    "\n",
    "**9c**: Is there an anomaly with the column AMT_INCOME_TOTAL? If so, how would you solve it?\n",
    "\n",
    "10: Fix the anomaly in DAYS_EMPLOYED?\n",
    "\n",
    "*You will be evaluated as follow*\n",
    "* 9: Description of the approach + code 5pts.\n",
    "* 10: code 2pts"
   ]
  },
  {
   "cell_type": "code",
   "metadata": {
    "id": "I5TcZk8Q5jQ-"
   },
   "source": [
    "## Your code here"
   ],
   "execution_count": null,
   "outputs": []
  },
  {
   "cell_type": "markdown",
   "metadata": {
    "id": "DgQ2i5B25lRC"
   },
   "source": [
    "<h2>Correlations (9 pts)</h2>\n",
    "\n",
    "\n",
    "11: **In app_test**, remove the collinear features of the dataset. How did you choose the threshold?\n",
    "\n",
    "12: What features from bureau.csv could you use to improve the training set? Use the random forest model from the notebook of the Lecture to check if it actually improves the final model performance.\n",
    "\n",
    "*You will be evaluated as follow*\n",
    "* 11: Code 3pts. Threshold explanation 1pt.\n",
    "* 12: Description of the approach 1pt. Code implementation of the approach 2pts. Improved performance 2pts."
   ]
  },
  {
   "cell_type": "code",
   "metadata": {
    "id": "uU1j3LW2S-ir"
   },
   "source": [
    "## Your code here"
   ],
   "execution_count": null,
   "outputs": []
  },
  {
   "cell_type": "markdown",
   "source": [
    "##  Class imbalance and model performances (6 points)\n",
    "\n",
    "\n",
    "**13**: Evaluate the other technique (SMOTE) to handeling imbalance data left in *6.b*. Does it makes a difference on the final model performance? Can you use the performance on the test set to choose which techniques to use? If not, what would you need to do so?\n",
    "\n",
    "*You will be evaluated as follow*\n",
    "* 13: Code 3pts. Explanation 3pts.\n"
   ],
   "metadata": {
    "id": "7_fQJhfcyQWn"
   }
  },
  {
   "cell_type": "code",
   "source": [
    "## Your code here"
   ],
   "metadata": {
    "id": "jDR7b8VRyUkS"
   },
   "execution_count": null,
   "outputs": []
  },
  {
   "cell_type": "markdown",
   "source": [
    "**13**: Answer the question here (double click to edit a text cell)\n",
    "\n"
   ],
   "metadata": {
    "id": "-kxXg4CA3nPO"
   }
  }
 ]
}
